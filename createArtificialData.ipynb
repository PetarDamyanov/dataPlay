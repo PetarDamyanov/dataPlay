{
 "cells": [
  {
   "cell_type": "markdown",
   "id": "c370f40c",
   "metadata": {},
   "source": [
    "pip install Faker"
   ]
  },
  {
   "cell_type": "code",
   "execution_count": 1,
   "id": "450edfdc",
   "metadata": {},
   "outputs": [],
   "source": [
    "import pandas as pd\n",
    "import faker\n",
    "import numpy as np"
   ]
  },
  {
   "cell_type": "code",
   "execution_count": 2,
   "id": "58a88f72",
   "metadata": {},
   "outputs": [],
   "source": [
    "fake = faker.Faker()"
   ]
  },
  {
   "cell_type": "code",
   "execution_count": 3,
   "id": "47462184",
   "metadata": {},
   "outputs": [
    {
     "data": {
      "text/plain": [
       "'83672 Jason Circles Apt. 432\\nPort Larry, PR 51760-2121'"
      ]
     },
     "execution_count": 3,
     "metadata": {},
     "output_type": "execute_result"
    }
   ],
   "source": [
    "fake.address()"
   ]
  },
  {
   "cell_type": "code",
   "execution_count": 5,
   "id": "dca461da",
   "metadata": {},
   "outputs": [],
   "source": [
    "def generateData(num_cols, num_rows):\n",
    "    return pd.DataFrame([{'C'+str(i):fake.random_int() for i in range(num_cols)} for i in range(num_rows)])"
   ]
  },
  {
   "cell_type": "code",
   "execution_count": 6,
   "id": "a742e41f",
   "metadata": {
    "scrolled": false
   },
   "outputs": [
    {
     "name": "stdout",
     "output_type": "stream",
     "text": [
      "CPU times: total: 46.9 ms\n",
      "Wall time: 48.9 ms\n"
     ]
    }
   ],
   "source": [
    "%%time\n",
    "data = generateData(1,10000)"
   ]
  },
  {
   "cell_type": "code",
   "execution_count": 7,
   "id": "9674df06",
   "metadata": {},
   "outputs": [
    {
     "data": {
      "text/html": [
       "<div>\n",
       "<style scoped>\n",
       "    .dataframe tbody tr th:only-of-type {\n",
       "        vertical-align: middle;\n",
       "    }\n",
       "\n",
       "    .dataframe tbody tr th {\n",
       "        vertical-align: top;\n",
       "    }\n",
       "\n",
       "    .dataframe thead th {\n",
       "        text-align: right;\n",
       "    }\n",
       "</style>\n",
       "<table border=\"1\" class=\"dataframe\">\n",
       "  <thead>\n",
       "    <tr style=\"text-align: right;\">\n",
       "      <th></th>\n",
       "      <th>C0</th>\n",
       "    </tr>\n",
       "  </thead>\n",
       "  <tbody>\n",
       "    <tr>\n",
       "      <th>0</th>\n",
       "      <td>5847</td>\n",
       "    </tr>\n",
       "    <tr>\n",
       "      <th>1</th>\n",
       "      <td>5957</td>\n",
       "    </tr>\n",
       "    <tr>\n",
       "      <th>2</th>\n",
       "      <td>4328</td>\n",
       "    </tr>\n",
       "    <tr>\n",
       "      <th>3</th>\n",
       "      <td>1997</td>\n",
       "    </tr>\n",
       "    <tr>\n",
       "      <th>4</th>\n",
       "      <td>124</td>\n",
       "    </tr>\n",
       "    <tr>\n",
       "      <th>...</th>\n",
       "      <td>...</td>\n",
       "    </tr>\n",
       "    <tr>\n",
       "      <th>9995</th>\n",
       "      <td>5040</td>\n",
       "    </tr>\n",
       "    <tr>\n",
       "      <th>9996</th>\n",
       "      <td>4352</td>\n",
       "    </tr>\n",
       "    <tr>\n",
       "      <th>9997</th>\n",
       "      <td>8829</td>\n",
       "    </tr>\n",
       "    <tr>\n",
       "      <th>9998</th>\n",
       "      <td>6589</td>\n",
       "    </tr>\n",
       "    <tr>\n",
       "      <th>9999</th>\n",
       "      <td>7723</td>\n",
       "    </tr>\n",
       "  </tbody>\n",
       "</table>\n",
       "<p>10000 rows × 1 columns</p>\n",
       "</div>"
      ],
      "text/plain": [
       "        C0\n",
       "0     5847\n",
       "1     5957\n",
       "2     4328\n",
       "3     1997\n",
       "4      124\n",
       "...    ...\n",
       "9995  5040\n",
       "9996  4352\n",
       "9997  8829\n",
       "9998  6589\n",
       "9999  7723\n",
       "\n",
       "[10000 rows x 1 columns]"
      ]
     },
     "execution_count": 7,
     "metadata": {},
     "output_type": "execute_result"
    }
   ],
   "source": [
    "data"
   ]
  },
  {
   "cell_type": "code",
   "execution_count": 10,
   "id": "1cedd148",
   "metadata": {},
   "outputs": [],
   "source": [
    "import matplotlib.pyplot as plt\n",
    "%matplotlib inline"
   ]
  },
  {
   "cell_type": "code",
   "execution_count": 11,
   "id": "35e1d85e",
   "metadata": {},
   "outputs": [
    {
     "data": {
      "text/plain": [
       "<AxesSubplot:>"
      ]
     },
     "execution_count": 11,
     "metadata": {},
     "output_type": "execute_result"
    },
    {
     "data": {
      "image/png": "[encoded data removed]",
      "text/plain": [
       "<Figure size 432x288 with 1 Axes>"
      ]
     },
     "metadata": {
      "needs_background": "light"
     },
     "output_type": "display_data"
    }
   ],
   "source": [
    "data.plot.bar(y='C0', rot=0)"
   ]
  },
  {
   "cell_type": "code",
   "execution_count": 35,
   "id": "ef26b9ac",
   "metadata": {},
   "outputs": [],
   "source": [
    "def generatePerson(age_min=1,age_max=100):\n",
    "    gender = fake.boolean()\n",
    "    return {'first_name': fake.first_name_male() if gender else fake.first_name_female(), \n",
    "            'last_name': fake.last_name_male() if gender else fake.last_name_female(),\n",
    "            'gender': 'Male' if gender else \"Female\",\n",
    "            'addres': fake.address(),\n",
    "            'age': fake.random_int(age_min, age_max),\n",
    "            'phone': fake.phone_number(),\n",
    "            'email': fake.email(),\n",
    "            'country': fake.country(),\n",
    "            'city': fake.city()\n",
    "           }"
   ]
  },
  {
   "cell_type": "code",
   "execution_count": 36,
   "id": "88598808",
   "metadata": {},
   "outputs": [
    {
     "data": {
      "text/plain": [
       "{'first_name': 'Patrick',\n",
       " 'last_name': 'Sellers',\n",
       " 'gender': 'Male',\n",
       " 'addres': '9645 John Highway\\nBuchananmouth, VA 03791',\n",
       " 'age': 60,\n",
       " 'phone': '104-844-4295',\n",
       " 'email': 'parkethan@adams-diaz.com',\n",
       " 'country': 'Timor-Leste',\n",
       " 'city': 'New Christine'}"
      ]
     },
     "execution_count": 36,
     "metadata": {},
     "output_type": "execute_result"
    }
   ],
   "source": [
    "generatePerson()"
   ]
  },
  {
   "cell_type": "code",
   "execution_count": 53,
   "id": "6be4b886",
   "metadata": {},
   "outputs": [],
   "source": [
    "def generatePersonData(num_cols, num_rows):\n",
    "    return pd.DataFrame([dict(**{'C'+str(i):fake.random_int() for i in range(num_cols)},**generatePerson()) for i in range(num_rows)])"
   ]
  },
  {
   "cell_type": "code",
   "execution_count": 54,
   "id": "e37f09ef",
   "metadata": {},
   "outputs": [],
   "source": [
    "pData = generatePersonData(5,1000)"
   ]
  },
  {
   "cell_type": "code",
   "execution_count": 55,
   "id": "aacda3a2",
   "metadata": {},
   "outputs": [
    {
     "data": {
      "text/html": [
       "<div>\n",
       "<style scoped>\n",
       "    .dataframe tbody tr th:only-of-type {\n",
       "        vertical-align: middle;\n",
       "    }\n",
       "\n",
       "    .dataframe tbody tr th {\n",
       "        vertical-align: top;\n",
       "    }\n",
       "\n",
       "    .dataframe thead th {\n",
       "        text-align: right;\n",
       "    }\n",
       "</style>\n",
       "<table border=\"1\" class=\"dataframe\">\n",
       "  <thead>\n",
       "    <tr style=\"text-align: right;\">\n",
       "      <th></th>\n",
       "      <th>C0</th>\n",
       "      <th>C1</th>\n",
       "      <th>C2</th>\n",
       "      <th>C3</th>\n",
       "      <th>C4</th>\n",
       "      <th>first_name</th>\n",
       "      <th>last_name</th>\n",
       "      <th>gender</th>\n",
       "      <th>addres</th>\n",
       "      <th>age</th>\n",
       "      <th>phone</th>\n",
       "      <th>email</th>\n",
       "      <th>country</th>\n",
       "      <th>city</th>\n",
       "    </tr>\n",
       "  </thead>\n",
       "  <tbody>\n",
       "    <tr>\n",
       "      <th>0</th>\n",
       "      <td>1706</td>\n",
       "      <td>4182</td>\n",
       "      <td>6597</td>\n",
       "      <td>3956</td>\n",
       "      <td>9975</td>\n",
       "      <td>Sharon</td>\n",
       "      <td>Salas</td>\n",
       "      <td>Female</td>\n",
       "      <td>83877 Smith Fork\\nOscarmouth, VI 70920-1456</td>\n",
       "      <td>28</td>\n",
       "      <td>640-274-8244x14394</td>\n",
       "      <td>shawluis@brown.com</td>\n",
       "      <td>Central African Republic</td>\n",
       "      <td>Lake Harryview</td>\n",
       "    </tr>\n",
       "    <tr>\n",
       "      <th>1</th>\n",
       "      <td>4600</td>\n",
       "      <td>4164</td>\n",
       "      <td>4763</td>\n",
       "      <td>4134</td>\n",
       "      <td>642</td>\n",
       "      <td>Brian</td>\n",
       "      <td>Hill</td>\n",
       "      <td>Male</td>\n",
       "      <td>Unit 5982 Box 0628\\nDPO AP 00036</td>\n",
       "      <td>61</td>\n",
       "      <td>1-591-844-1298</td>\n",
       "      <td>scott76@yahoo.com</td>\n",
       "      <td>Timor-Leste</td>\n",
       "      <td>West Jose</td>\n",
       "    </tr>\n",
       "    <tr>\n",
       "      <th>2</th>\n",
       "      <td>2977</td>\n",
       "      <td>5802</td>\n",
       "      <td>5715</td>\n",
       "      <td>7961</td>\n",
       "      <td>682</td>\n",
       "      <td>Sheila</td>\n",
       "      <td>Brown</td>\n",
       "      <td>Female</td>\n",
       "      <td>USNS Weaver\\nFPO AP 63612-1356</td>\n",
       "      <td>71</td>\n",
       "      <td>958-659-5965x0147</td>\n",
       "      <td>williamscrystal@gmail.com</td>\n",
       "      <td>Azerbaijan</td>\n",
       "      <td>East Abigailside</td>\n",
       "    </tr>\n",
       "    <tr>\n",
       "      <th>3</th>\n",
       "      <td>9600</td>\n",
       "      <td>3126</td>\n",
       "      <td>9701</td>\n",
       "      <td>1538</td>\n",
       "      <td>8978</td>\n",
       "      <td>Melissa</td>\n",
       "      <td>Navarro</td>\n",
       "      <td>Female</td>\n",
       "      <td>825 Riddle Motorway\\nRogersfurt, ID 82145-5971</td>\n",
       "      <td>46</td>\n",
       "      <td>485-329-5942x88708</td>\n",
       "      <td>rebekah38@wood.com</td>\n",
       "      <td>Eritrea</td>\n",
       "      <td>Lake Mackenzieview</td>\n",
       "    </tr>\n",
       "    <tr>\n",
       "      <th>4</th>\n",
       "      <td>8398</td>\n",
       "      <td>1889</td>\n",
       "      <td>5788</td>\n",
       "      <td>7170</td>\n",
       "      <td>1404</td>\n",
       "      <td>Janice</td>\n",
       "      <td>Patterson</td>\n",
       "      <td>Female</td>\n",
       "      <td>73422 Elizabeth Passage\\nWest Barbara, NJ 57420</td>\n",
       "      <td>56</td>\n",
       "      <td>227.619.6362</td>\n",
       "      <td>ginajackson@monroe.info</td>\n",
       "      <td>Belize</td>\n",
       "      <td>North Samuel</td>\n",
       "    </tr>\n",
       "    <tr>\n",
       "      <th>...</th>\n",
       "      <td>...</td>\n",
       "      <td>...</td>\n",
       "      <td>...</td>\n",
       "      <td>...</td>\n",
       "      <td>...</td>\n",
       "      <td>...</td>\n",
       "      <td>...</td>\n",
       "      <td>...</td>\n",
       "      <td>...</td>\n",
       "      <td>...</td>\n",
       "      <td>...</td>\n",
       "      <td>...</td>\n",
       "      <td>...</td>\n",
       "      <td>...</td>\n",
       "    </tr>\n",
       "    <tr>\n",
       "      <th>995</th>\n",
       "      <td>2611</td>\n",
       "      <td>6235</td>\n",
       "      <td>4243</td>\n",
       "      <td>6634</td>\n",
       "      <td>9870</td>\n",
       "      <td>Edward</td>\n",
       "      <td>Griffith</td>\n",
       "      <td>Male</td>\n",
       "      <td>383 Espinoza Point Suite 594\\nOlsonland, VA 63...</td>\n",
       "      <td>67</td>\n",
       "      <td>086.263.4878x75548</td>\n",
       "      <td>joshuataylor@gmail.com</td>\n",
       "      <td>Saint Pierre and Miquelon</td>\n",
       "      <td>Port Mary</td>\n",
       "    </tr>\n",
       "    <tr>\n",
       "      <th>996</th>\n",
       "      <td>2691</td>\n",
       "      <td>4784</td>\n",
       "      <td>7647</td>\n",
       "      <td>8200</td>\n",
       "      <td>5243</td>\n",
       "      <td>Amanda</td>\n",
       "      <td>Morris</td>\n",
       "      <td>Female</td>\n",
       "      <td>25477 Kaitlin Orchard Suite 949\\nHamiltonside,...</td>\n",
       "      <td>72</td>\n",
       "      <td>01158899428</td>\n",
       "      <td>reyesmelanie@hotmail.com</td>\n",
       "      <td>Russian Federation</td>\n",
       "      <td>Kaiserview</td>\n",
       "    </tr>\n",
       "    <tr>\n",
       "      <th>997</th>\n",
       "      <td>6047</td>\n",
       "      <td>2254</td>\n",
       "      <td>505</td>\n",
       "      <td>1778</td>\n",
       "      <td>1333</td>\n",
       "      <td>Heather</td>\n",
       "      <td>Baker</td>\n",
       "      <td>Female</td>\n",
       "      <td>PSC 0731, Box 4254\\nAPO AP 35853-8829</td>\n",
       "      <td>22</td>\n",
       "      <td>287.765.0094</td>\n",
       "      <td>henrybrian@yahoo.com</td>\n",
       "      <td>Morocco</td>\n",
       "      <td>Lake Anne</td>\n",
       "    </tr>\n",
       "    <tr>\n",
       "      <th>998</th>\n",
       "      <td>5692</td>\n",
       "      <td>9228</td>\n",
       "      <td>6731</td>\n",
       "      <td>2553</td>\n",
       "      <td>1234</td>\n",
       "      <td>Jaime</td>\n",
       "      <td>Thompson</td>\n",
       "      <td>Female</td>\n",
       "      <td>9450 Brewer Well Suite 778\\nColemanstad, HI 86472</td>\n",
       "      <td>2</td>\n",
       "      <td>666-407-5364</td>\n",
       "      <td>justincooley@jones.info</td>\n",
       "      <td>Iceland</td>\n",
       "      <td>North Jacob</td>\n",
       "    </tr>\n",
       "    <tr>\n",
       "      <th>999</th>\n",
       "      <td>7916</td>\n",
       "      <td>6018</td>\n",
       "      <td>2130</td>\n",
       "      <td>9085</td>\n",
       "      <td>678</td>\n",
       "      <td>Johnathan</td>\n",
       "      <td>Green</td>\n",
       "      <td>Male</td>\n",
       "      <td>2285 Roy Island Apt. 676\\nWest Kenneth, AK 02489</td>\n",
       "      <td>13</td>\n",
       "      <td>784-705-6803</td>\n",
       "      <td>amartin@yahoo.com</td>\n",
       "      <td>Paraguay</td>\n",
       "      <td>Anthonytown</td>\n",
       "    </tr>\n",
       "  </tbody>\n",
       "</table>\n",
       "<p>1000 rows × 14 columns</p>\n",
       "</div>"
      ],
      "text/plain": [
       "       C0    C1    C2    C3    C4 first_name  last_name  gender  \\\n",
       "0    1706  4182  6597  3956  9975     Sharon      Salas  Female   \n",
       "1    4600  4164  4763  4134   642      Brian       Hill    Male   \n",
       "2    2977  5802  5715  7961   682     Sheila      Brown  Female   \n",
       "3    9600  3126  9701  1538  8978    Melissa    Navarro  Female   \n",
       "4    8398  1889  5788  7170  1404     Janice  Patterson  Female   \n",
       "..    ...   ...   ...   ...   ...        ...        ...     ...   \n",
       "995  2611  6235  4243  6634  9870     Edward   Griffith    Male   \n",
       "996  2691  4784  7647  8200  5243     Amanda     Morris  Female   \n",
       "997  6047  2254   505  1778  1333    Heather      Baker  Female   \n",
       "998  5692  9228  6731  2553  1234      Jaime   Thompson  Female   \n",
       "999  7916  6018  2130  9085   678  Johnathan      Green    Male   \n",
       "\n",
       "                                                addres  age  \\\n",
       "0          83877 Smith Fork\\nOscarmouth, VI 70920-1456   28   \n",
       "1                     Unit 5982 Box 0628\\nDPO AP 00036   61   \n",
       "2                       USNS Weaver\\nFPO AP 63612-1356   71   \n",
       "3       825 Riddle Motorway\\nRogersfurt, ID 82145-5971   46   \n",
       "4      73422 Elizabeth Passage\\nWest Barbara, NJ 57420   56   \n",
       "..                                                 ...  ...   \n",
       "995  383 Espinoza Point Suite 594\\nOlsonland, VA 63...   67   \n",
       "996  25477 Kaitlin Orchard Suite 949\\nHamiltonside,...   72   \n",
       "997              PSC 0731, Box 4254\\nAPO AP 35853-8829   22   \n",
       "998  9450 Brewer Well Suite 778\\nColemanstad, HI 86472    2   \n",
       "999   2285 Roy Island Apt. 676\\nWest Kenneth, AK 02489   13   \n",
       "\n",
       "                  phone                      email                    country  \\\n",
       "0    640-274-8244x14394         shawluis@brown.com   Central African Republic   \n",
       "1        1-591-844-1298          scott76@yahoo.com                Timor-Leste   \n",
       "2     958-659-5965x0147  williamscrystal@gmail.com                 Azerbaijan   \n",
       "3    485-329-5942x88708         rebekah38@wood.com                    Eritrea   \n",
       "4          227.619.6362    ginajackson@monroe.info                     Belize   \n",
       "..                  ...                        ...                        ...   \n",
       "995  086.263.4878x75548     joshuataylor@gmail.com  Saint Pierre and Miquelon   \n",
       "996         01158899428   reyesmelanie@hotmail.com         Russian Federation   \n",
       "997        287.765.0094       henrybrian@yahoo.com                    Morocco   \n",
       "998        666-407-5364    justincooley@jones.info                    Iceland   \n",
       "999        784-705-6803          amartin@yahoo.com                   Paraguay   \n",
       "\n",
       "                   city  \n",
       "0        Lake Harryview  \n",
       "1             West Jose  \n",
       "2      East Abigailside  \n",
       "3    Lake Mackenzieview  \n",
       "4          North Samuel  \n",
       "..                  ...  \n",
       "995           Port Mary  \n",
       "996          Kaiserview  \n",
       "997           Lake Anne  \n",
       "998         North Jacob  \n",
       "999         Anthonytown  \n",
       "\n",
       "[1000 rows x 14 columns]"
      ]
     },
     "execution_count": 55,
     "metadata": {},
     "output_type": "execute_result"
    }
   ],
   "source": [
    "pData"
   ]
  },
  {
   "cell_type": "code",
   "execution_count": null,
   "id": "ab0ceeb4",
   "metadata": {},
   "outputs": [],
   "source": []
  }
 ],
 "metadata": {
  "kernelspec": {
   "display_name": "Python 3 (ipykernel)",
   "language": "python",
   "name": "python3"
  },
  "language_info": {
   "codemirror_mode": {
    "name": "ipython",
    "version": 3
   },
   "file_extension": ".py",
   "mimetype": "text/x-python",
   "name": "python",
   "nbconvert_exporter": "python",
   "pygments_lexer": "ipython3",
   "version": "3.10.9"
  }
 },
 "nbformat": 4,
 "nbformat_minor": 5
}
